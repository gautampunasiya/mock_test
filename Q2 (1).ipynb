{
 "cells": [
  {
   "cell_type": "markdown",
   "id": "ebb1d0cc-f787-4d3b-a7e8-4c310f461a60",
   "metadata": {},
   "source": [
    "First Unique Character in a String\n",
    "\n",
    "Given a string s, find the first non-repeating character in it and return its index. If it does not exist, return -1.\n",
    "\n",
    "Example 1:\n",
    "Input: s = \"leetcode\"\n",
    "Output: 0"
   ]
  },
  {
   "cell_type": "code",
   "execution_count": 2,
   "id": "9560ad1f-cbbc-465d-b30d-91c2262395aa",
   "metadata": {},
   "outputs": [
    {
     "name": "stdout",
     "output_type": "stream",
     "text": [
      "2\n"
     ]
    }
   ],
   "source": [
    "def uniqOccurenceElement(s):\n",
    "    idx = 0\n",
    "    s=s.lower()\n",
    "    for i in s:\n",
    "        if (s.count(i)==1):\n",
    "            return idx\n",
    "        else:\n",
    "            idx = idx+1\n",
    "\n",
    "s = \"eetcode\"\n",
    "print(uniqOccurenceElement(s))"
   ]
  },
  {
   "cell_type": "code",
   "execution_count": null,
   "id": "c601d005-e2c9-4317-90c6-9801e3de3ca9",
   "metadata": {},
   "outputs": [],
   "source": []
  }
 ],
 "metadata": {
  "kernelspec": {
   "display_name": "Python 3 (ipykernel)",
   "language": "python",
   "name": "python3"
  },
  "language_info": {
   "codemirror_mode": {
    "name": "ipython",
    "version": 3
   },
   "file_extension": ".py",
   "mimetype": "text/x-python",
   "name": "python",
   "nbconvert_exporter": "python",
   "pygments_lexer": "ipython3",
   "version": "3.10.6"
  }
 },
 "nbformat": 4,
 "nbformat_minor": 5
}
