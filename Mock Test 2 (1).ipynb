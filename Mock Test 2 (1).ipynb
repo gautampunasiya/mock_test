{
 "cells": [
  {
   "cell_type": "markdown",
   "id": "da3d15be-e02c-4709-8218-2f0787fc7597",
   "metadata": {},
   "source": [
    "17. Write a function that takes a list of numbers as input and returns a new list containing only the even numbers from the input list. Use list comprehension to solve this problem.\n",
    "\n",
    "Example:\n",
    "\n",
    "Input: [1, 2, 3, 4, 5, 6, 7, 8, 9, 10]\n",
    "\n",
    "Output: [2, 4, 6, 8, 10]"
   ]
  },
  {
   "cell_type": "code",
   "execution_count": 3,
   "id": "4056c22f-9347-4abb-a72b-f4fbcbbaf211",
   "metadata": {},
   "outputs": [
    {
     "name": "stdout",
     "output_type": "stream",
     "text": [
      "[2, 4, 6, 8, 10]\n"
     ]
    }
   ],
   "source": [
    "def getEven(nums):\n",
    "    li = [i for i in nums if i%2==0 ]\n",
    "    return li\n",
    "\n",
    "nums = [1, 2, 3, 4, 5, 6, 7, 8, 9, 10]\n",
    "print(getEven(nums))"
   ]
  },
  {
   "cell_type": "markdown",
   "id": "fd8992f9-992d-4a14-bf82-1778d5d0872f",
   "metadata": {},
   "source": [
    "18. Implement a decorator function called ‘timer’ that measures the execution time of a function. The ‘timer’ decorator should print the time taken by the decorated function to execute. Use the ‘time’ module in Python to calculate the execution time.\n",
    "\n",
    "Example:\n",
    "\n",
    "import time\n",
    "\n",
    "@timer\n",
    "def my_function():\n",
    "    # Function code goes here\n",
    "    time.sleep(2)\n",
    "\n",
    "my_function()\n",
    "\n",
    "Output:\n",
    "\"Execution time: 2.00123 seconds\""
   ]
  },
  {
   "cell_type": "code",
   "execution_count": 9,
   "id": "7cfde72c-e20d-4822-9d53-d9d20e76abfd",
   "metadata": {},
   "outputs": [
    {
     "name": "stdout",
     "output_type": "stream",
     "text": [
      "the function ends in  1.430511474609375e-06 secs\n",
      "15\n"
     ]
    }
   ],
   "source": [
    "import time\n",
    "\n",
    "from functools import wraps\n",
    "import time\n",
    "\n",
    "def timer(func):\n",
    "    @wraps(func)\n",
    "    def wrapper(a, b):\n",
    "        start_time = time.time();\n",
    "        retval = func(a, b)\n",
    "        print(\"the function ends in \", time.time()-start_time, \"secs\")\n",
    "        return retval\n",
    "    return wrapper\n",
    "\n",
    "@timer \n",
    "def my_function(a, b):\n",
    "    \n",
    "    return a+b\n",
    "    # time.sleep(2)\n",
    "\n",
    "\n",
    "    \n",
    "print(my_function(5,10))"
   ]
  },
  {
   "cell_type": "markdown",
   "id": "18de5258-b2fe-46bf-976e-bfd091ad2e1f",
   "metadata": {},
   "source": [
    "19. Write a function called ‘calculate_mean’ that takes a list of numbers as input and returns the mean (average) of the numbers. The function should calculate the mean using the sum of the numbers divided by the total count.\n",
    "\n",
    "Example:\n",
    "\n",
    "def calculate_mean(numbers):\n",
    "    total = sum(numbers)\n",
    "    count = len(numbers)\n",
    "    mean = total / count\n",
    "    return mean\n",
    "\n",
    "data = [10, 15, 20, 25, 30]\n",
    "mean_value = calculate_mean(data)\n",
    "print(\"Mean:\", mean_value)\n",
    "\n",
    "Output:\n",
    "Mean: 20.0"
   ]
  },
  {
   "cell_type": "code",
   "execution_count": 4,
   "id": "28614611-0d40-4a77-9c13-f576f40160fd",
   "metadata": {},
   "outputs": [
    {
     "name": "stdout",
     "output_type": "stream",
     "text": [
      "20.0\n"
     ]
    }
   ],
   "source": [
    "def calculate_mean(nums):\n",
    "    return sum(nums)/len(nums)\n",
    "nums = [10, 15, 20, 25, 30]\n",
    "print(calculate_mean(nums))"
   ]
  },
  {
   "cell_type": "markdown",
   "id": "f08d4b93-8034-41bf-8f73-00b5adf436a7",
   "metadata": {},
   "source": [
    "20) Write a function called ‘perform_hypothesis_test’ that takes two lists of numbers as input, representing two samples. The function should perform a two-sample t-test and return the p-value. Use the ‘scipy.stats’ module in Python to calculate the t-test and p-value.\n",
    "\n",
    "Example:\n",
    "\n",
    "from scipy import stats\n",
    "\n",
    "def perform_hypothesis_test(sample1, sample2):\n",
    "    t_statistic, p_value = stats.ttest_ind(sample1, sample2)\n",
    "    return p_value\n",
    "\n",
    "sample1 = [5, 10, 15, 20, 25]\n",
    "sample2 = [10, 20, 30, 40, 50]\n",
    "p_value = perform_hypothesis_test(sample1, sample2)\n",
    "print(\"P-value:\", p_value)\n",
    "\n",
    "Output:\n",
    "P-value: 0.1064706396450037"
   ]
  },
  {
   "cell_type": "code",
   "execution_count": 12,
   "id": "ccf20b29-3357-462f-8f50-8a5aeed81b0b",
   "metadata": {},
   "outputs": [
    {
     "name": "stdout",
     "output_type": "stream",
     "text": [
      "1.2649110640673518\n",
      "P-value: 0.24150397191306\n"
     ]
    }
   ],
   "source": [
    "from scipy import stats\n",
    "\n",
    "def perform_hypothesis_test(sample1, sample2):\n",
    "    t_statistic, p_value = stats.ttest_ind(sample1, sample2) \n",
    "    print(t_statistic)\n",
    "    return p_value\n",
    "sample1 = [30,35,40,45,50]\n",
    "sample2 = [10, 20, 30, 40, 50] \n",
    "p_value = perform_hypothesis_test(sample1, sample2) \n",
    "print(\"P-value:\", p_value)"
   ]
  },
  {
   "cell_type": "code",
   "execution_count": null,
   "id": "be196e9f-dd25-47fd-bdeb-2d1a5009fcfb",
   "metadata": {},
   "outputs": [],
   "source": []
  }
 ],
 "metadata": {
  "kernelspec": {
   "display_name": "Python 3 (ipykernel)",
   "language": "python",
   "name": "python3"
  },
  "language_info": {
   "codemirror_mode": {
    "name": "ipython",
    "version": 3
   },
   "file_extension": ".py",
   "mimetype": "text/x-python",
   "name": "python",
   "nbconvert_exporter": "python",
   "pygments_lexer": "ipython3",
   "version": "3.10.8"
  }
 },
 "nbformat": 4,
 "nbformat_minor": 5
}
