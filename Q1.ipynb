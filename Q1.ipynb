{
 "cells": [
  {
   "cell_type": "markdown",
   "id": "ee4c84db-2752-4a18-9d00-1ee094e792a1",
   "metadata": {},
   "source": [
    "Q1) Given an integer array nums, move all 0's to the end of it while maintaining the relative order of the non-zero elements.\n",
    "\n",
    "Note that you must do this in-place without making a copy of the array.\n",
    "\n",
    "Example 1:\n",
    "Input: nums = [0,1,0,3,12]\n",
    "Output: [1,3,12,0,0]\n",
    "\n",
    "Example 2:\n",
    "Input: nums = [0]\n",
    "Output: [0]\n",
    "\n",
    "Constraints:\n",
    "a. 1 <= nums.length <= 10^4\n",
    "b. -2^31 <= nums[i] <= 2^31 - 1"
   ]
  },
  {
   "cell_type": "code",
   "execution_count": 3,
   "id": "2fe95b67-dd43-4ce9-8aa7-f64e8017a8c6",
   "metadata": {},
   "outputs": [
    {
     "name": "stdout",
     "output_type": "stream",
     "text": [
      "[1, 3, 12, 0, 0]\n"
     ]
    }
   ],
   "source": [
    "def moveZeros(arr):\n",
    "    i=0\n",
    "    j=i+1\n",
    "    while j < len(arr):\n",
    "        if (arr[i] != arr[j]):\n",
    "            arr[i],arr[j] =arr[j],arr[i]\n",
    "            i=i+1\n",
    "            j=j+1\n",
    "        else:\n",
    "             j=j+1\n",
    "    return arr\n",
    "\n",
    "arr = [0,1,0,3,12]\n",
    "print(moveZeros(arr))                "
   ]
  },
  {
   "cell_type": "code",
   "execution_count": null,
   "id": "71e120cb-b48a-4f11-9632-b2598e585919",
   "metadata": {},
   "outputs": [],
   "source": []
  }
 ],
 "metadata": {
  "kernelspec": {
   "display_name": "Python 3 (ipykernel)",
   "language": "python",
   "name": "python3"
  },
  "language_info": {
   "codemirror_mode": {
    "name": "ipython",
    "version": 3
   },
   "file_extension": ".py",
   "mimetype": "text/x-python",
   "name": "python",
   "nbconvert_exporter": "python",
   "pygments_lexer": "ipython3",
   "version": "3.10.6"
  }
 },
 "nbformat": 4,
 "nbformat_minor": 5
}
